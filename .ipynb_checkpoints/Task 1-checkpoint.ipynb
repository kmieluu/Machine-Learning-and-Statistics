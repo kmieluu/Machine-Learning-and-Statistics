{
 "cells": [
  {
   "cell_type": "markdown",
   "metadata": {},
   "source": [
    "*Tasks*\n",
    "*** \n",
    "These are my solutions to the Tasks assessment. The author is Agata Chmielowiec (a.k.chmielowiec@gmail.com)\n",
    "\n",
    "Square root of 2 is irrational number. In order to present exactly 100 decimal places we need to put Python function in place. \n",
    "There are many packages in python that would help us to receive this result faster, however for the purpose of this exercise we will not use any of those. \n",
    "\n",
    "As explained on the lecture, we can calculate the square root of a number by using Newtons method [1,2].\n",
    "To find he square root of a number x, we can iterate using the following equation. \n",
    "\n",
    "$$ z_{next} = z - \\frac{z^2 -  x}{2z} $$\n",
    "\n",
    "\n",
    "\n"
   ]
  },
  {
   "cell_type": "code",
   "execution_count": 2,
   "metadata": {},
   "outputs": [
    {
     "ename": "NameError",
     "evalue": "name 'old' is not defined",
     "output_type": "error",
     "traceback": [
      "\u001b[1;31m---------------------------------------------------------------------------\u001b[0m",
      "\u001b[1;31mNameError\u001b[0m                                 Traceback (most recent call last)",
      "\u001b[1;32m<ipython-input-2-3480a9a96b77>\u001b[0m in \u001b[0;36m<module>\u001b[1;34m\u001b[0m\n\u001b[0;32m     19\u001b[0m         \u001b[1;32mbreak\u001b[0m\u001b[1;33m\u001b[0m\u001b[1;33m\u001b[0m\u001b[0m\n\u001b[0;32m     20\u001b[0m \u001b[1;33m\u001b[0m\u001b[0m\n\u001b[1;32m---> 21\u001b[1;33m     \u001b[1;32mif\u001b[0m \u001b[0mr\u001b[0m \u001b[1;33m==\u001b[0m \u001b[0mold\u001b[0m\u001b[1;33m:\u001b[0m\u001b[1;33m\u001b[0m\u001b[1;33m\u001b[0m\u001b[0m\n\u001b[0m\u001b[0;32m     22\u001b[0m         \u001b[1;32mif\u001b[0m \u001b[0mbelow_min\u001b[0m\u001b[1;33m:\u001b[0m\u001b[1;33m\u001b[0m\u001b[1;33m\u001b[0m\u001b[0m\n\u001b[0;32m     23\u001b[0m             \u001b[0mr\u001b[0m \u001b[1;33m+=\u001b[0m \u001b[1;36m1\u001b[0m\u001b[1;33m\u001b[0m\u001b[1;33m\u001b[0m\u001b[0m\n",
      "\u001b[1;31mNameError\u001b[0m: name 'old' is not defined"
     ]
    }
   ],
   "source": [
    "z = 2 * 10 ** 200\n",
    "\n",
    "r = z\n",
    "\n",
    "def test_diffs(z, r):\n",
    "    d0 = abs(z - r**2)\n",
    "    dm = abs(z - (r-1)**2)\n",
    "    dp = abs(z - (r+1)**2)\n",
    "    minimised = d0 <= dm and d0 <= dp\n",
    "    below_min = dp < dm\n",
    "    return minimised, below_min\n",
    "\n",
    "while True:\n",
    "    oldz = z\n",
    "    r = (r + z // r) // 2\n",
    "\n",
    "    minimised, below_min = test_diffs(z, r)\n",
    "    if minimised:\n",
    "        break\n",
    "\n",
    "    if r == oldr:\n",
    "        if below_min:\n",
    "            r += 1\n",
    "        else:\n",
    "            r -= 1\n",
    "        minimised, _ = test_diffs(z, r)\n",
    "        if minimised:\n",
    "            break\n",
    "\n",
    "print(f'{r // 10**100}.{r % 10**100:0100d}')\n"
   ]
  },
  {
   "cell_type": "code",
   "execution_count": null,
   "metadata": {},
   "outputs": [],
   "source": []
  }
 ],
 "metadata": {
  "kernelspec": {
   "display_name": "Python 3",
   "language": "python",
   "name": "python3"
  },
  "language_info": {
   "codemirror_mode": {
    "name": "ipython",
    "version": 3
   },
   "file_extension": ".py",
   "mimetype": "text/x-python",
   "name": "python",
   "nbconvert_exporter": "python",
   "pygments_lexer": "ipython3",
   "version": "3.8.5"
  }
 },
 "nbformat": 4,
 "nbformat_minor": 4
}
