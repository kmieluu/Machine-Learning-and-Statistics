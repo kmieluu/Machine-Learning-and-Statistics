{
 "cells": [
  {
   "cell_type": "markdown",
   "metadata": {},
   "source": [
    "*Task 1*\n",
    "*** \n",
    "These are my solutions to the Tasks assessment. The author is Agata Chmielowiec (a.k.chmielowiec@gmail.com)\n",
    "\n",
    "Square root of 2 is irrational number. In order to present exactly 100 decimal places we need to put Python function in place. \n",
    "There are many packages in python that would help us to receive this result faster, however for the purpose of this exercise we will not use any of those. \n",
    "\n",
    "As explained on the lecture, we can calculate the square root of a number by using Newtons method [1,2].\n",
    "To find he square root of a number x, we can iterate using the following equation. \n",
    "\n",
    "$$ z_{next} = z - \\frac{z^2 -  x}{2z} $$\n",
    "\n",
    "[1] Newton's method https://en.wikipedia.org/wiki/Newton%27s_method\n",
    "\n",
    "[2] A Tour of Go; Exercise: Loops and Functions https://tour.golang.org/lowcontrol/8\n",
    "\n",
    "[3] How to calculate square root using Python https://www.tutorialspoint.com/How-to-perform-square-root-without-using-math-module-in-Python\n",
    "\n"
   ]
  },
  {
   "cell_type": "code",
   "execution_count": 3,
   "metadata": {},
   "outputs": [
    {
     "ename": "NameError",
     "evalue": "name 'oldr' is not defined",
     "output_type": "error",
     "traceback": [
      "\u001b[1;31m---------------------------------------------------------------------------\u001b[0m",
      "\u001b[1;31mNameError\u001b[0m                                 Traceback (most recent call last)",
      "\u001b[1;32m<ipython-input-3-5777c269fe40>\u001b[0m in \u001b[0;36m<module>\u001b[1;34m\u001b[0m\n\u001b[0;32m     20\u001b[0m         \u001b[1;32mbreak\u001b[0m\u001b[1;33m\u001b[0m\u001b[1;33m\u001b[0m\u001b[0m\n\u001b[0;32m     21\u001b[0m \u001b[1;33m\u001b[0m\u001b[0m\n\u001b[1;32m---> 22\u001b[1;33m     \u001b[1;32mif\u001b[0m \u001b[0mr\u001b[0m \u001b[1;33m==\u001b[0m \u001b[0moldr\u001b[0m\u001b[1;33m:\u001b[0m\u001b[1;33m\u001b[0m\u001b[1;33m\u001b[0m\u001b[0m\n\u001b[0m\u001b[0;32m     23\u001b[0m         \u001b[1;32mif\u001b[0m \u001b[0mbelow_min\u001b[0m\u001b[1;33m:\u001b[0m\u001b[1;33m\u001b[0m\u001b[1;33m\u001b[0m\u001b[0m\n\u001b[0;32m     24\u001b[0m             \u001b[0mr\u001b[0m \u001b[1;33m+=\u001b[0m \u001b[1;36m1\u001b[0m\u001b[1;33m\u001b[0m\u001b[1;33m\u001b[0m\u001b[0m\n",
      "\u001b[1;31mNameError\u001b[0m: name 'oldr' is not defined"
     ]
    }
   ],
   "source": [
    "# [3] denominator starts with 2\n",
    "z = 2 * 10 ** 200\n",
    "\n",
    "r = z\n",
    "\n",
    "def test_diffs(z, r):\n",
    "    d0 = abs(z - r**2)\n",
    "    dm = abs(z - (r-1)**2)\n",
    "    dp = abs(z - (r+1)**2)\n",
    "    minimised = d0 <= dm and d0 <= dp\n",
    "    below_min = dp < dm\n",
    "    return minimised, below_min\n",
    "\n",
    "while True:\n",
    "    oldz = z\n",
    "    r = (r + z // r) // 2\n",
    "\n",
    "    minimised, below_min = test_diffs(z, r)\n",
    "    if minimised:\n",
    "        break\n",
    "\n",
    "    if r == oldr:\n",
    "        if below_min:\n",
    "            r += 1\n",
    "        else:\n",
    "            r -= 1\n",
    "        minimised, _ = test_diffs(z, r)\n",
    "        if minimised:\n",
    "            break\n",
    "\n",
    "print(f'{r // 10**100}.{r % 10**100:0100d}')\n"
   ]
  },
  {
   "cell_type": "code",
   "execution_count": 9,
   "metadata": {},
   "outputs": [],
   "source": [
    "def sqrt(x):\n",
    "    \"\"\"\n",
    "    A function to calculate the square root of a number x.\n",
    "    \"\"\"\n",
    "    \n",
    "# Initial guess for the square root z. \n",
    "    z = x / 2\n",
    "\n",
    "# Loop untill we're happy with the accuracy.\n",
    "    while x - (z*z)>0.001:\n",
    "    \n",
    "    # Calculate a better guess for the square root.\n",
    "        z -= (z*z - x) / (2 * z)\n",
    "    \n",
    "# Return the (approximate) square root of x.\n",
    "    return z\n",
    "    \n"
   ]
  },
  {
   "cell_type": "code",
   "execution_count": 8,
   "metadata": {},
   "outputs": [
    {
     "name": "stdout",
     "output_type": "stream",
     "text": [
      "Enter num: 2\n",
      "\n",
      " Square root value is:  1.3800000000000003\n"
     ]
    }
   ],
   "source": [
    "# another interesting approach to solve this query is presented on website https://www.sololearn.com/Discuss/2228331/how-can-we-calculate-square-root-without-using-any-built-in-function-in-python\n",
    "\n",
    "\n",
    "num = float(input(\"Enter num: \"))\n",
    "a = 1.0\n",
    "\n",
    "while(1):\n",
    "    b = a*a\n",
    "    if  num-0.1 < b < num+0.1 :\n",
    "        break\n",
    "    else:\n",
    "        pass\n",
    "    a = a + 0.01\n",
    "\n",
    "\n",
    "print(\"\\n Square root value is: \",round(a,100))"
   ]
  },
  {
   "cell_type": "code",
   "execution_count": 10,
   "metadata": {},
   "outputs": [
    {
     "data": {
      "text/plain": [
       "1.5"
      ]
     },
     "execution_count": 10,
     "metadata": {},
     "output_type": "execute_result"
    }
   ],
   "source": [
    "sqrt(2)"
   ]
  },
  {
   "cell_type": "markdown",
   "metadata": {},
   "source": [
    "*Task 2*\n",
    "*** \n",
    "\n",
    "Scipy.Stats is module where all statistics functions in Python can be  found.\n",
    "T-Test are among most common statistical tests performed in the world [2]\n",
    "\n",
    "Chi-squared distribution shows χ2 on the x-axis and p-value (right tail probability) on the y-axis.\n",
    "\n",
    "[1] https://www.tutorialspoint.com/scipy/scipy_stats.htm\n",
    "\n",
    "[2] https://github.com/ianmcloughlin/jupyter-teaching-notebooks/blob/master/ttest.ipynb\n",
    "\n",
    "[3] Wikipedia Chi-squared test https://en.wikipedia.org/wiki/Chi-squared_test\n",
    "\n",
    "[4] scipy.stats.chisquare https://docs.scipy.org/doc/scipy/reference/generated/scipy.stats.chisquare.html\n",
    "\n",
    "[5] Chi square for groups of data https://machinelearningmastery.com/chi-squared-test-for-machine-learning/"
   ]
  },
  {
   "cell_type": "code",
   "execution_count": 18,
   "metadata": {},
   "outputs": [
    {
     "data": {
      "image/png": "[encoded data removed]",
      "text/plain": [
       "<Figure size 360x360 with 1 Axes>"
      ]
     },
     "metadata": {
      "needs_background": "light"
     },
     "output_type": "display_data"
    }
   ],
   "source": [
    "#Visulise data given in example using known packages pandas, seaborn and numpy.\n",
    "#Plot data\n",
    "\n",
    "#w stands for white collar, b for black collar and n for n/a\n",
    "\n",
    "w = (90, 60, 104, 95)\n",
    "b = (30, 50, 51, 20)\n",
    "n = (30, 40, 45, 35)\n",
    "\n",
    "import pandas as pd\n",
    "import seaborn as sns\n",
    "import numpy as np\n",
    "\n",
    "df = pd.DataFrame({'Category':['W'] * len(w) + ['B'] * len(b) + ['N'] * len(n), 'Value':np.hstack([w,b,n])\n",
    "})\n",
    "sns.catplot(x = 'Category', y = 'Value', jitter=False, data = df);"
   ]
  },
  {
   "cell_type": "markdown",
   "metadata": {},
   "source": [
    "***\n",
    "In the example from Wikipedia site random sample was taken on 650 residents. \n",
    "\n",
    "As per the example there are 4 neighbourhoods: A, B, C and D. \n",
    "Each contain of 3 types of people living in it: \n",
    "* White collar (w)\n",
    "* Blue collar (b)\n",
    "* No collar (n)\n",
    "\n",
    "As per Wikipedia Chi-square value based on the table is approximately 24.6.\n",
    "Task is to calculate Chi - square value based on given table and to calculate associated p value.\n",
    "\n",
    "***"
   ]
  },
  {
   "cell_type": "code",
   "execution_count": 26,
   "metadata": {},
   "outputs": [
    {
     "data": {
      "text/plain": [
       "Power_divergenceResult(statistic=12.501432664756447, pvalue=0.005848762939650371)"
      ]
     },
     "execution_count": 26,
     "metadata": {},
     "output_type": "execute_result"
    }
   ],
   "source": [
    "# as per [4] scipy.stats can be used if all od observed and expected frequencies should be at least 5.\n",
    "\n",
    "from scipy.stats import chisquare\n",
    "chisquare(w)\n"
   ]
  },
  {
   "cell_type": "code",
   "execution_count": 30,
   "metadata": {},
   "outputs": [
    {
     "name": "stdout",
     "output_type": "stream",
     "text": [
      "[[90, 60, 104, 95], [30, 50, 51, 20], [30, 40, 45, 35]]\n",
      "dof=6\n",
      "[[ 80.53846154  80.53846154 107.38461538  80.53846154]\n",
      " [ 34.84615385  34.84615385  46.46153846  34.84615385]\n",
      " [ 34.61538462  34.61538462  46.15384615  34.61538462]]\n",
      "probability=0.950, critical=12.592, stat=24.571\n",
      "Dependent (reject H0)\n",
      "significance=0.050, p=0.000\n",
      "Dependent (reject H0)\n"
     ]
    }
   ],
   "source": [
    "from scipy.stats  import chi2_contingency\n",
    "from scipy.stats import chi2\n",
    "# contingency table\n",
    "table = [\t[90, 60,  104, 95],\n",
    "\t\t\t[30, 50, 51, 20],\n",
    "\t\t\t[30, 40, 45, 35]]\n",
    "print(table)\n",
    "stat, p, dof, expected = chi2_contingency(table)\n",
    "print('dof=%d' % dof)\n",
    "print(expected)\n",
    "# interpret test-statistic\n",
    "prob = 0.95\n",
    "critical = chi2.ppf(prob, dof)\n",
    "print('probability=%.3f, critical=%.3f, stat=%.3f' % (prob, critical, stat))\n",
    "if abs(stat) >= critical:\n",
    "\tprint('Dependent (reject H0)')\n",
    "else:\n",
    "\tprint('Independent (fail to reject H0)')\n",
    "# interpret p-value\n",
    "alpha = 1.0 - prob\n",
    "print('significance=%.3f, p=%.3f' % (alpha, p))\n",
    "if p <= alpha:\n",
    "\tprint('Dependent (reject H0)')\n",
    "else:\n",
    "\tprint('Independent (fail to reject H0)')"
   ]
  },
  {
   "cell_type": "code",
   "execution_count": null,
   "metadata": {},
   "outputs": [],
   "source": []
  },
  {
   "cell_type": "code",
   "execution_count": null,
   "metadata": {},
   "outputs": [],
   "source": []
  }
 ],
 "metadata": {
  "kernelspec": {
   "display_name": "Python 3",
   "language": "python",
   "name": "python3"
  },
  "language_info": {
   "codemirror_mode": {
    "name": "ipython",
    "version": 3
   },
   "file_extension": ".py",
   "mimetype": "text/x-python",
   "name": "python",
   "nbconvert_exporter": "python",
   "pygments_lexer": "ipython3",
   "version": "3.8.5"
  }
 },
 "nbformat": 4,
 "nbformat_minor": 4
}
